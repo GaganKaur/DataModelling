{
 "cells": [
  {
   "cell_type": "code",
   "execution_count": 39,
   "metadata": {
    "collapsed": true
   },
   "outputs": [],
   "source": [
    "import pandas as pd\n",
    "import numpy as np\n",
    "from sklearn.preprocessing import LabelEncoder\n",
    "import random\n",
    "from sklearn.ensemble import RandomForestClassifier\n",
    "from sklearn.ensemble import GradientBoostingClassifier\n",
    "from sklearn.metrics import roc_curve, auc\n",
    "import matplotlib.pyplot as plt\n",
    "import sys"
   ]
  },
  {
   "cell_type": "code",
   "execution_count": 40,
   "metadata": {},
   "outputs": [
    {
     "data": {
      "text/html": [
       "<div>\n",
       "<style>\n",
       "    .dataframe thead tr:only-child th {\n",
       "        text-align: right;\n",
       "    }\n",
       "\n",
       "    .dataframe thead th {\n",
       "        text-align: left;\n",
       "    }\n",
       "\n",
       "    .dataframe tbody tr th {\n",
       "        vertical-align: top;\n",
       "    }\n",
       "</style>\n",
       "<table border=\"1\" class=\"dataframe\">\n",
       "  <thead>\n",
       "    <tr style=\"text-align: right;\">\n",
       "      <th></th>\n",
       "      <th>ID</th>\n",
       "      <th>BAD</th>\n",
       "      <th>AreaCode</th>\n",
       "      <th>EAScore</th>\n",
       "      <th>IdentityRank</th>\n",
       "      <th>DeviceBrowserType</th>\n",
       "      <th>IpAddressLocCity</th>\n",
       "      <th>IpAddressLocCountry</th>\n",
       "    </tr>\n",
       "  </thead>\n",
       "  <tbody>\n",
       "    <tr>\n",
       "      <th>0</th>\n",
       "      <td>134457</td>\n",
       "      <td>1</td>\n",
       "      <td>973</td>\n",
       "      <td>NaN</td>\n",
       "      <td>425.0</td>\n",
       "      <td>TRIDENT</td>\n",
       "      <td>NaN</td>\n",
       "      <td>UNITED STATES</td>\n",
       "    </tr>\n",
       "    <tr>\n",
       "      <th>1</th>\n",
       "      <td>6360592</td>\n",
       "      <td>0</td>\n",
       "      <td>310</td>\n",
       "      <td>930.0</td>\n",
       "      <td>652.0</td>\n",
       "      <td>TRIDENT</td>\n",
       "      <td>AUSTIN</td>\n",
       "      <td>UNITED STATES</td>\n",
       "    </tr>\n",
       "    <tr>\n",
       "      <th>2</th>\n",
       "      <td>462987</td>\n",
       "      <td>0</td>\n",
       "      <td>502</td>\n",
       "      <td>704.0</td>\n",
       "      <td>683.0</td>\n",
       "      <td>CHROME</td>\n",
       "      <td>LOUISVILLE</td>\n",
       "      <td>UNITED STATES</td>\n",
       "    </tr>\n",
       "    <tr>\n",
       "      <th>3</th>\n",
       "      <td>309372</td>\n",
       "      <td>0</td>\n",
       "      <td>518</td>\n",
       "      <td>113.0</td>\n",
       "      <td>477.0</td>\n",
       "      <td>FIREFOX</td>\n",
       "      <td>SCHENECTADY</td>\n",
       "      <td>UNITED STATES</td>\n",
       "    </tr>\n",
       "    <tr>\n",
       "      <th>4</th>\n",
       "      <td>397009</td>\n",
       "      <td>1</td>\n",
       "      <td>713</td>\n",
       "      <td>NaN</td>\n",
       "      <td>587.0</td>\n",
       "      <td>FIREFOX</td>\n",
       "      <td>LOS ANGELES</td>\n",
       "      <td>UNITED STATES</td>\n",
       "    </tr>\n",
       "  </tbody>\n",
       "</table>\n",
       "</div>"
      ],
      "text/plain": [
       "        ID  BAD  AreaCode  EAScore  IdentityRank DeviceBrowserType  \\\n",
       "0   134457    1       973      NaN         425.0           TRIDENT   \n",
       "1  6360592    0       310    930.0         652.0           TRIDENT   \n",
       "2   462987    0       502    704.0         683.0            CHROME   \n",
       "3   309372    0       518    113.0         477.0           FIREFOX   \n",
       "4   397009    1       713      NaN         587.0           FIREFOX   \n",
       "\n",
       "  IpAddressLocCity IpAddressLocCountry  \n",
       "0              NaN       UNITED STATES  \n",
       "1           AUSTIN       UNITED STATES  \n",
       "2       LOUISVILLE       UNITED STATES  \n",
       "3      SCHENECTADY       UNITED STATES  \n",
       "4      LOS ANGELES       UNITED STATES  "
      ]
     },
     "execution_count": 40,
     "metadata": {},
     "output_type": "execute_result"
    }
   ],
   "source": [
    "file_two = \"SFA Craft Demo and Case Study - Huffman.csv\"\n",
    "SFA_comp_df = pd.read_csv(file_two)\n",
    "# SFA_comp_df = SFA_comp_df.drop(SFA_comp_df.columns[['opendate', 'IsValid', 'IsConnected', 'Personal', 'Reputation Level']], axis = 1, inplace = True)\n",
    "# SFA_comp_df = SFA_comp_df.drop('ReceivingMail', 'Type', 'Volume Score', 'Result Number', 'EmailDays', axis = 1)\n",
    "# SFA_comp_df.head()\n",
    "\n",
    "\n",
    "SFA_comp_df = SFA_comp_df[['ID','BAD','opendate','AreaCode','EAScore', 'IdentityRank', 'DeviceBrowserType', 'IpAddressLocCity', 'IpAddressLocCountry']]\n",
    "SFA_comp_df = SFA_comp_df.drop('opendate', axis=1)\n",
    "SFA_comp_df.head()"
   ]
  },
  {
   "cell_type": "code",
   "execution_count": 41,
   "metadata": {
    "collapsed": true
   },
   "outputs": [],
   "source": [
    "ID_col = ['ID']\n",
    "target_col = [\"BAD\"]\n",
    "cat_cols = ['DeviceBrowserType','IpAddressLocCity','IpAddressLocCountry']\n",
    "num_cols= list(set(list(SFA_comp_df.columns))-set(cat_cols)-set(ID_col)-set(target_col))"
   ]
  },
  {
   "cell_type": "code",
   "execution_count": 42,
   "metadata": {},
   "outputs": [],
   "source": [
    "num_cat_cols = num_cols+cat_cols # Combined numerical and Categorical variables\n",
    "\n",
    "#Create a new variable for each variable having missing value with VariableName_NA \n",
    "# and flag missing value with 1 and other with 0\n",
    "\n",
    "for var in num_cat_cols:\n",
    "    if SFA_comp_df[var].isnull().any()==True:\n",
    "        SFA_comp_df[var+'_NA']=SFA_comp_df[var].isnull()*1"
   ]
  },
  {
   "cell_type": "code",
   "execution_count": 43,
   "metadata": {},
   "outputs": [
    {
     "name": "stderr",
     "output_type": "stream",
     "text": [
      "/anaconda/lib/python3.6/site-packages/pandas/core/generic.py:3549: SettingWithCopyWarning: \n",
      "A value is trying to be set on a copy of a slice from a DataFrame\n",
      "\n",
      "See the caveats in the documentation: http://pandas.pydata.org/pandas-docs/stable/indexing.html#indexing-view-versus-copy\n",
      "  self._update_inplace(new_data)\n"
     ]
    },
    {
     "data": {
      "text/html": [
       "<div>\n",
       "<style>\n",
       "    .dataframe thead tr:only-child th {\n",
       "        text-align: right;\n",
       "    }\n",
       "\n",
       "    .dataframe thead th {\n",
       "        text-align: left;\n",
       "    }\n",
       "\n",
       "    .dataframe tbody tr th {\n",
       "        vertical-align: top;\n",
       "    }\n",
       "</style>\n",
       "<table border=\"1\" class=\"dataframe\">\n",
       "  <thead>\n",
       "    <tr style=\"text-align: right;\">\n",
       "      <th></th>\n",
       "      <th>ID</th>\n",
       "      <th>BAD</th>\n",
       "      <th>AreaCode</th>\n",
       "      <th>EAScore</th>\n",
       "      <th>IdentityRank</th>\n",
       "      <th>DeviceBrowserType</th>\n",
       "      <th>IpAddressLocCity</th>\n",
       "      <th>IpAddressLocCountry</th>\n",
       "      <th>IdentityRank_NA</th>\n",
       "      <th>EAScore_NA</th>\n",
       "      <th>DeviceBrowserType_NA</th>\n",
       "      <th>IpAddressLocCity_NA</th>\n",
       "      <th>IpAddressLocCountry_NA</th>\n",
       "    </tr>\n",
       "  </thead>\n",
       "  <tbody>\n",
       "    <tr>\n",
       "      <th>0</th>\n",
       "      <td>134457</td>\n",
       "      <td>1</td>\n",
       "      <td>973</td>\n",
       "      <td>495.0</td>\n",
       "      <td>425.0</td>\n",
       "      <td>TRIDENT</td>\n",
       "      <td>-9999</td>\n",
       "      <td>UNITED STATES</td>\n",
       "      <td>0</td>\n",
       "      <td>1</td>\n",
       "      <td>0</td>\n",
       "      <td>1</td>\n",
       "      <td>0</td>\n",
       "    </tr>\n",
       "    <tr>\n",
       "      <th>1</th>\n",
       "      <td>6360592</td>\n",
       "      <td>0</td>\n",
       "      <td>310</td>\n",
       "      <td>930.0</td>\n",
       "      <td>652.0</td>\n",
       "      <td>TRIDENT</td>\n",
       "      <td>AUSTIN</td>\n",
       "      <td>UNITED STATES</td>\n",
       "      <td>0</td>\n",
       "      <td>0</td>\n",
       "      <td>0</td>\n",
       "      <td>0</td>\n",
       "      <td>0</td>\n",
       "    </tr>\n",
       "    <tr>\n",
       "      <th>2</th>\n",
       "      <td>462987</td>\n",
       "      <td>0</td>\n",
       "      <td>502</td>\n",
       "      <td>704.0</td>\n",
       "      <td>683.0</td>\n",
       "      <td>CHROME</td>\n",
       "      <td>LOUISVILLE</td>\n",
       "      <td>UNITED STATES</td>\n",
       "      <td>0</td>\n",
       "      <td>0</td>\n",
       "      <td>0</td>\n",
       "      <td>0</td>\n",
       "      <td>0</td>\n",
       "    </tr>\n",
       "    <tr>\n",
       "      <th>3</th>\n",
       "      <td>309372</td>\n",
       "      <td>0</td>\n",
       "      <td>518</td>\n",
       "      <td>113.0</td>\n",
       "      <td>477.0</td>\n",
       "      <td>FIREFOX</td>\n",
       "      <td>SCHENECTADY</td>\n",
       "      <td>UNITED STATES</td>\n",
       "      <td>0</td>\n",
       "      <td>0</td>\n",
       "      <td>0</td>\n",
       "      <td>0</td>\n",
       "      <td>0</td>\n",
       "    </tr>\n",
       "    <tr>\n",
       "      <th>4</th>\n",
       "      <td>397009</td>\n",
       "      <td>1</td>\n",
       "      <td>713</td>\n",
       "      <td>495.0</td>\n",
       "      <td>587.0</td>\n",
       "      <td>FIREFOX</td>\n",
       "      <td>LOS ANGELES</td>\n",
       "      <td>UNITED STATES</td>\n",
       "      <td>0</td>\n",
       "      <td>1</td>\n",
       "      <td>0</td>\n",
       "      <td>0</td>\n",
       "      <td>0</td>\n",
       "    </tr>\n",
       "  </tbody>\n",
       "</table>\n",
       "</div>"
      ],
      "text/plain": [
       "        ID  BAD  AreaCode  EAScore  IdentityRank DeviceBrowserType  \\\n",
       "0   134457    1       973    495.0         425.0           TRIDENT   \n",
       "1  6360592    0       310    930.0         652.0           TRIDENT   \n",
       "2   462987    0       502    704.0         683.0            CHROME   \n",
       "3   309372    0       518    113.0         477.0           FIREFOX   \n",
       "4   397009    1       713    495.0         587.0           FIREFOX   \n",
       "\n",
       "  IpAddressLocCity IpAddressLocCountry  IdentityRank_NA  EAScore_NA  \\\n",
       "0            -9999       UNITED STATES                0           1   \n",
       "1           AUSTIN       UNITED STATES                0           0   \n",
       "2       LOUISVILLE       UNITED STATES                0           0   \n",
       "3      SCHENECTADY       UNITED STATES                0           0   \n",
       "4      LOS ANGELES       UNITED STATES                0           1   \n",
       "\n",
       "   DeviceBrowserType_NA  IpAddressLocCity_NA  IpAddressLocCountry_NA  \n",
       "0                     0                    1                       0  \n",
       "1                     0                    0                       0  \n",
       "2                     0                    0                       0  \n",
       "3                     0                    0                       0  \n",
       "4                     0                    0                       0  "
      ]
     },
     "execution_count": 43,
     "metadata": {},
     "output_type": "execute_result"
    }
   ],
   "source": [
    "SFA_comp_df[num_cols] = SFA_comp_df[num_cols].fillna(SFA_comp_df[num_cols].median(),inplace=True)\n",
    "\n",
    "SFA_comp_df[cat_cols] = SFA_comp_df[cat_cols].fillna(value = -9999)\n",
    "\n",
    "SFA_comp_df.head()"
   ]
  },
  {
   "cell_type": "code",
   "execution_count": 44,
   "metadata": {},
   "outputs": [
    {
     "data": {
      "text/html": [
       "<div>\n",
       "<style>\n",
       "    .dataframe thead tr:only-child th {\n",
       "        text-align: right;\n",
       "    }\n",
       "\n",
       "    .dataframe thead th {\n",
       "        text-align: left;\n",
       "    }\n",
       "\n",
       "    .dataframe tbody tr th {\n",
       "        vertical-align: top;\n",
       "    }\n",
       "</style>\n",
       "<table border=\"1\" class=\"dataframe\">\n",
       "  <thead>\n",
       "    <tr style=\"text-align: right;\">\n",
       "      <th></th>\n",
       "      <th>ID</th>\n",
       "      <th>BAD</th>\n",
       "      <th>AreaCode</th>\n",
       "      <th>EAScore</th>\n",
       "      <th>IdentityRank</th>\n",
       "      <th>DeviceBrowserType</th>\n",
       "      <th>IpAddressLocCity</th>\n",
       "      <th>IpAddressLocCountry</th>\n",
       "      <th>IdentityRank_NA</th>\n",
       "      <th>EAScore_NA</th>\n",
       "      <th>DeviceBrowserType_NA</th>\n",
       "      <th>IpAddressLocCity_NA</th>\n",
       "      <th>IpAddressLocCountry_NA</th>\n",
       "    </tr>\n",
       "  </thead>\n",
       "  <tbody>\n",
       "    <tr>\n",
       "      <th>0</th>\n",
       "      <td>134457</td>\n",
       "      <td>1</td>\n",
       "      <td>973</td>\n",
       "      <td>495.0</td>\n",
       "      <td>425.0</td>\n",
       "      <td>13</td>\n",
       "      <td>0</td>\n",
       "      <td>3</td>\n",
       "      <td>0</td>\n",
       "      <td>1</td>\n",
       "      <td>0</td>\n",
       "      <td>1</td>\n",
       "      <td>0</td>\n",
       "    </tr>\n",
       "    <tr>\n",
       "      <th>1</th>\n",
       "      <td>6360592</td>\n",
       "      <td>0</td>\n",
       "      <td>310</td>\n",
       "      <td>930.0</td>\n",
       "      <td>652.0</td>\n",
       "      <td>13</td>\n",
       "      <td>49</td>\n",
       "      <td>3</td>\n",
       "      <td>0</td>\n",
       "      <td>0</td>\n",
       "      <td>0</td>\n",
       "      <td>0</td>\n",
       "      <td>0</td>\n",
       "    </tr>\n",
       "    <tr>\n",
       "      <th>2</th>\n",
       "      <td>462987</td>\n",
       "      <td>0</td>\n",
       "      <td>502</td>\n",
       "      <td>704.0</td>\n",
       "      <td>683.0</td>\n",
       "      <td>1</td>\n",
       "      <td>538</td>\n",
       "      <td>3</td>\n",
       "      <td>0</td>\n",
       "      <td>0</td>\n",
       "      <td>0</td>\n",
       "      <td>0</td>\n",
       "      <td>0</td>\n",
       "    </tr>\n",
       "    <tr>\n",
       "      <th>3</th>\n",
       "      <td>309372</td>\n",
       "      <td>0</td>\n",
       "      <td>518</td>\n",
       "      <td>113.0</td>\n",
       "      <td>477.0</td>\n",
       "      <td>4</td>\n",
       "      <td>832</td>\n",
       "      <td>3</td>\n",
       "      <td>0</td>\n",
       "      <td>0</td>\n",
       "      <td>0</td>\n",
       "      <td>0</td>\n",
       "      <td>0</td>\n",
       "    </tr>\n",
       "    <tr>\n",
       "      <th>4</th>\n",
       "      <td>397009</td>\n",
       "      <td>1</td>\n",
       "      <td>713</td>\n",
       "      <td>495.0</td>\n",
       "      <td>587.0</td>\n",
       "      <td>4</td>\n",
       "      <td>537</td>\n",
       "      <td>3</td>\n",
       "      <td>0</td>\n",
       "      <td>1</td>\n",
       "      <td>0</td>\n",
       "      <td>0</td>\n",
       "      <td>0</td>\n",
       "    </tr>\n",
       "  </tbody>\n",
       "</table>\n",
       "</div>"
      ],
      "text/plain": [
       "        ID  BAD  AreaCode  EAScore  IdentityRank  DeviceBrowserType  \\\n",
       "0   134457    1       973    495.0         425.0                 13   \n",
       "1  6360592    0       310    930.0         652.0                 13   \n",
       "2   462987    0       502    704.0         683.0                  1   \n",
       "3   309372    0       518    113.0         477.0                  4   \n",
       "4   397009    1       713    495.0         587.0                  4   \n",
       "\n",
       "   IpAddressLocCity  IpAddressLocCountry  IdentityRank_NA  EAScore_NA  \\\n",
       "0                 0                    3                0           1   \n",
       "1                49                    3                0           0   \n",
       "2               538                    3                0           0   \n",
       "3               832                    3                0           0   \n",
       "4               537                    3                0           1   \n",
       "\n",
       "   DeviceBrowserType_NA  IpAddressLocCity_NA  IpAddressLocCountry_NA  \n",
       "0                     0                    1                       0  \n",
       "1                     0                    0                       0  \n",
       "2                     0                    0                       0  \n",
       "3                     0                    0                       0  \n",
       "4                     0                    0                       0  "
      ]
     },
     "execution_count": 44,
     "metadata": {},
     "output_type": "execute_result"
    }
   ],
   "source": [
    "#create label encoders for categorical features\n",
    "for var in cat_cols:\n",
    " number = LabelEncoder()\n",
    " SFA_comp_df[var] = number.fit_transform(SFA_comp_df[var].astype('str'))\n",
    "\n",
    "#Target variable is also a categorical so convert it\n",
    "SFA_comp_df[\"BAD\"] = number.fit_transform(SFA_comp_df[\"BAD\"].astype('str'))\n",
    "SFA_comp_df.head()"
   ]
  },
  {
   "cell_type": "code",
   "execution_count": 45,
   "metadata": {},
   "outputs": [
    {
     "name": "stderr",
     "output_type": "stream",
     "text": [
      "/anaconda/lib/python3.6/site-packages/ipykernel_launcher.py:10: SettingWithCopyWarning: \n",
      "A value is trying to be set on a copy of a slice from a DataFrame.\n",
      "Try using .loc[row_indexer,col_indexer] = value instead\n",
      "\n",
      "See the caveats in the documentation: http://pandas.pydata.org/pandas-docs/stable/indexing.html#indexing-view-versus-copy\n",
      "  # Remove the CWD from sys.path while we load stuff.\n",
      "/anaconda/lib/python3.6/site-packages/ipykernel_launcher.py:19: SettingWithCopyWarning: \n",
      "A value is trying to be set on a copy of a slice from a DataFrame.\n",
      "Try using .loc[row_indexer,col_indexer] = value instead\n",
      "\n",
      "See the caveats in the documentation: http://pandas.pydata.org/pandas-docs/stable/indexing.html#indexing-view-versus-copy\n"
     ]
    }
   ],
   "source": [
    "features=list(set(list(SFA_comp_df.columns))-set(ID_col)-set(target_col))\n",
    "\n",
    "df_0_7 = SFA_comp_df.sample(frac=0.7)\n",
    "\n",
    "# Storing random 70% of data as the training set\n",
    "\n",
    "df_train = SFA_comp_df.loc[SFA_comp_df.index.isin(df_0_7.index)]\n",
    "#df_train.head()\n",
    "\n",
    "df_train['is_train'] = np.random.uniform(0, 1, len(df_train)) <= .75\n",
    "Train, Validate = df_train[df_train['is_train']==True], df_train[df_train['is_train']==False]\n",
    "\n",
    "\n",
    "df_test = SFA_comp_df.loc[~SFA_comp_df.index.isin(df_0_7.index)]\n",
    "df_test.head()\n",
    "data_to_match = df_test['BAD'].tolist()\n",
    "data_to_match\n",
    "\n",
    "df_train['is_train'] = np.random.uniform(0, 1, len(df_train)) <= .75\n",
    "#     print(df_train['is_train'])\n",
    "Train, Validate = df_train[df_train['is_train']==True], df_train[df_train['is_train']==False]"
   ]
  },
  {
   "cell_type": "code",
   "execution_count": 46,
   "metadata": {
    "collapsed": true
   },
   "outputs": [],
   "source": [
    "x_train = Train[list(features)].values\n",
    "y_train = Train[\"BAD\"].values\n",
    "x_validate = Validate[list(features)].values\n",
    "y_validate = Validate[\"BAD\"].values\n",
    "x_test=df_test[list(features)].values"
   ]
  },
  {
   "cell_type": "code",
   "execution_count": 47,
   "metadata": {},
   "outputs": [
    {
     "data": {
      "text/plain": [
       "RandomForestClassifier(bootstrap=True, class_weight=None, criterion='gini',\n",
       "            max_depth=None, max_features='auto', max_leaf_nodes=None,\n",
       "            min_impurity_split=1e-07, min_samples_leaf=1,\n",
       "            min_samples_split=2, min_weight_fraction_leaf=0.0,\n",
       "            n_estimators=1000, n_jobs=1, oob_score=False,\n",
       "            random_state=None, verbose=0, warm_start=False)"
      ]
     },
     "execution_count": 47,
     "metadata": {},
     "output_type": "execute_result"
    }
   ],
   "source": [
    "random.seed(100) # Read more about it\n",
    "rf = RandomForestClassifier(n_estimators=1000)\n",
    "rf.fit(x_train, y_train)"
   ]
  },
  {
   "cell_type": "code",
   "execution_count": 48,
   "metadata": {},
   "outputs": [
    {
     "name": "stderr",
     "output_type": "stream",
     "text": [
      "/anaconda/lib/python3.6/site-packages/ipykernel_launcher.py:7: SettingWithCopyWarning: \n",
      "A value is trying to be set on a copy of a slice from a DataFrame.\n",
      "Try using .loc[row_indexer,col_indexer] = value instead\n",
      "\n",
      "See the caveats in the documentation: http://pandas.pydata.org/pandas-docs/stable/indexing.html#indexing-view-versus-copy\n",
      "  import sys\n",
      "/anaconda/lib/python3.6/site-packages/pandas/core/indexing.py:517: SettingWithCopyWarning: \n",
      "A value is trying to be set on a copy of a slice from a DataFrame.\n",
      "Try using .loc[row_indexer,col_indexer] = value instead\n",
      "\n",
      "See the caveats in the documentation: http://pandas.pydata.org/pandas-docs/stable/indexing.html#indexing-view-versus-copy\n",
      "  self.obj[item] = s\n"
     ]
    },
    {
     "data": {
      "text/plain": [
       "7     1.0\n",
       "8     0.0\n",
       "12    1.0\n",
       "22    1.0\n",
       "24    1.0\n",
       "Name: BAD, dtype: float64"
      ]
     },
     "execution_count": 48,
     "metadata": {},
     "output_type": "execute_result"
    }
   ],
   "source": [
    "status = rf.predict_proba(x_validate)\n",
    "fpr, tpr, _ = roc_curve(y_validate, status[:,1])\n",
    "roc_auc = auc(fpr, tpr)\n",
    "#print(roc_auc)\n",
    "\n",
    "final_status = rf.predict_proba(x_test)\n",
    "df_test[\"BAD\"]=final_status[:,1]\n",
    "\n",
    "#df_test.to_csv('output.csv',columns=['ID','BAD'])\n",
    "for i, frame in df_test['BAD'].iteritems():\n",
    "    if frame > 0.5:\n",
    "        df_test.loc[i, 'BAD'] = 1.0\n",
    "    else:\n",
    "        df_test.loc[i, 'BAD'] = 0.0\n",
    "        \n",
    "        \n",
    "df_test['BAD'].head()"
   ]
  },
  {
   "cell_type": "code",
   "execution_count": 49,
   "metadata": {},
   "outputs": [
    {
     "data": {
      "image/png": "[encoded data removed]",
      "text/plain": [
       "<matplotlib.figure.Figure at 0x11b617588>"
      ]
     },
     "metadata": {},
     "output_type": "display_data"
    }
   ],
   "source": [
    "plt.plot(fpr, tpr, label='ROC curve (area = %0.3f)' % roc_auc)\n",
    "plt.plot([0, 1], [0, 1], 'k--')  # random predictions curve\n",
    "plt.xlim([0.0, 1.0])\n",
    "plt.ylim([0.0, 1.0])\n",
    "plt.xlabel('False Positive Rate or (1 - Specifity)')\n",
    "plt.ylabel('True Positive Rate or (Sensitivity)')\n",
    "plt.title('Receiver Operating Characteristic')\n",
    "plt.legend(loc=\"lower right\")\n",
    "plt.show()"
   ]
  },
  {
   "cell_type": "code",
   "execution_count": 50,
   "metadata": {
    "collapsed": true
   },
   "outputs": [],
   "source": [
    "pred = df_test['BAD'].tolist()"
   ]
  },
  {
   "cell_type": "code",
   "execution_count": 51,
   "metadata": {},
   "outputs": [
    {
     "name": "stdout",
     "output_type": "stream",
     "text": [
      "TRUE POSITIVE:  332\n",
      "FALSE POSITIVE:  52\n",
      "TRUE NEGETIVE:  376\n",
      "FALSE NEGETIVE:  73\n"
     ]
    }
   ],
   "source": [
    "true_positive = 0\n",
    "true_negetive = 0\n",
    "false_positive = 0\n",
    "false_negetive = 0\n",
    "\n",
    "for i in range(len(pred)):\n",
    "    if (pred[i] == 1) and (data_to_match[i] == 1):\n",
    "        true_positive+=1\n",
    "    elif pred[i] == 0 and data_to_match[i] == 0:\n",
    "        true_negetive+=1\n",
    "    elif pred[i] == 1 and data_to_match[i] == 0:\n",
    "        false_positive+=1\n",
    "    elif pred[i] == 0 and data_to_match[i] == 1:\n",
    "        false_negetive+=1\n",
    "        \n",
    "        \n",
    "print(\"TRUE POSITIVE: \",true_positive)\n",
    "print(\"FALSE POSITIVE: \",false_positive)\n",
    "print(\"TRUE NEGETIVE: \",true_negetive)\n",
    "print(\"FALSE NEGETIVE: \",false_negetive)"
   ]
  },
  {
   "cell_type": "code",
   "execution_count": 57,
   "metadata": {},
   "outputs": [
    {
     "data": {
      "text/plain": [
       "0.8415716096324461"
      ]
     },
     "execution_count": 57,
     "metadata": {},
     "output_type": "execute_result"
    }
   ],
   "source": [
    "Precision = true_positive/(true_positive+false_positive)\n",
    "Precision\n",
    "recall = true_positive/(true_positive+false_negetive)\n",
    "recall\n",
    "F_score = (2*Precision*recall)/(Precision+recall)\n",
    "F_score"
   ]
  },
  {
   "cell_type": "code",
   "execution_count": 56,
   "metadata": {
    "collapsed": true
   },
   "outputs": [],
   "source": [
    "result = []\n",
    "for i in range(len(pred)):\n",
    "    if pred[i] == data_to_match[i]:\n",
    "        result.append('True')\n",
    "    else:\n",
    "        result.append('False')"
   ]
  },
  {
   "cell_type": "code",
   "execution_count": 53,
   "metadata": {},
   "outputs": [
    {
     "data": {
      "text/plain": [
       "708"
      ]
     },
     "execution_count": 53,
     "metadata": {},
     "output_type": "execute_result"
    }
   ],
   "source": [
    "c = 0\n",
    "for i in range(len(result)):\n",
    "    if result[i] == 'True':\n",
    "        c+=1\n",
    "        \n",
    "c"
   ]
  },
  {
   "cell_type": "code",
   "execution_count": null,
   "metadata": {
    "collapsed": true
   },
   "outputs": [],
   "source": []
  }
 ],
 "metadata": {
  "kernelspec": {
   "display_name": "Python 3",
   "language": "python",
   "name": "python3"
  },
  "language_info": {
   "codemirror_mode": {
    "name": "ipython",
    "version": 3
   },
   "file_extension": ".py",
   "mimetype": "text/x-python",
   "name": "python",
   "nbconvert_exporter": "python",
   "pygments_lexer": "ipython3",
   "version": "3.6.2"
  }
 },
 "nbformat": 4,
 "nbformat_minor": 2
}
