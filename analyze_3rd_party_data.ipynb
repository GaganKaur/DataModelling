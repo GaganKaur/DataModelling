{
 "cells": [
  {
   "cell_type": "code",
   "execution_count": 1049,
   "metadata": {
    "collapsed": true
   },
   "outputs": [],
   "source": [
    "#Dependencies\n",
    "import csv\n",
    "import numpy as np\n",
    "import pandas as pd\n",
    "import matplotlib.pyplot as plt\n",
    "import seaborn as sns\n",
    "import pandas as pd\n",
    "import string\n",
    "import scipy.stats as stats\n",
    "import seaborn as sns"
   ]
  },
  {
   "cell_type": "code",
   "execution_count": 1050,
   "metadata": {},
   "outputs": [
    {
     "data": {
      "text/html": [
       "<div>\n",
       "<style>\n",
       "    .dataframe thead tr:only-child th {\n",
       "        text-align: right;\n",
       "    }\n",
       "\n",
       "    .dataframe thead th {\n",
       "        text-align: left;\n",
       "    }\n",
       "\n",
       "    .dataframe tbody tr th {\n",
       "        vertical-align: top;\n",
       "    }\n",
       "</style>\n",
       "<table border=\"1\" class=\"dataframe\">\n",
       "  <thead>\n",
       "    <tr style=\"text-align: right;\">\n",
       "      <th></th>\n",
       "      <th>ID</th>\n",
       "      <th>BAD</th>\n",
       "      <th>opendate</th>\n",
       "      <th>AreaCode</th>\n",
       "      <th>EAScore</th>\n",
       "      <th>IdentityRank</th>\n",
       "      <th>DeviceBrowserType</th>\n",
       "      <th>IpAddressLocCity</th>\n",
       "      <th>IpAddressLocCountry</th>\n",
       "      <th>IsValid</th>\n",
       "      <th>IsConnected</th>\n",
       "      <th>Personal</th>\n",
       "      <th>Reputation Level</th>\n",
       "      <th>ReceivingMail</th>\n",
       "      <th>Type</th>\n",
       "      <th>Volume Score</th>\n",
       "      <th>Result Number</th>\n",
       "      <th>EmailDays</th>\n",
       "    </tr>\n",
       "  </thead>\n",
       "  <tbody>\n",
       "    <tr>\n",
       "      <th>0</th>\n",
       "      <td>134457</td>\n",
       "      <td>1</td>\n",
       "      <td>9/3/15</td>\n",
       "      <td>973</td>\n",
       "      <td>NaN</td>\n",
       "      <td>425.0</td>\n",
       "      <td>TRIDENT</td>\n",
       "      <td>NaN</td>\n",
       "      <td>UNITED STATES</td>\n",
       "      <td>True</td>\n",
       "      <td>True</td>\n",
       "      <td>True</td>\n",
       "      <td>1</td>\n",
       "      <td>True</td>\n",
       "      <td>L</td>\n",
       "      <td>1</td>\n",
       "      <td>2</td>\n",
       "      <td>95</td>\n",
       "    </tr>\n",
       "    <tr>\n",
       "      <th>1</th>\n",
       "      <td>6360592</td>\n",
       "      <td>0</td>\n",
       "      <td>9/28/15</td>\n",
       "      <td>310</td>\n",
       "      <td>930.0</td>\n",
       "      <td>652.0</td>\n",
       "      <td>TRIDENT</td>\n",
       "      <td>AUSTIN</td>\n",
       "      <td>UNITED STATES</td>\n",
       "      <td>True</td>\n",
       "      <td>True</td>\n",
       "      <td>True</td>\n",
       "      <td>1</td>\n",
       "      <td>True</td>\n",
       "      <td>F</td>\n",
       "      <td>1</td>\n",
       "      <td>1</td>\n",
       "      <td>116</td>\n",
       "    </tr>\n",
       "    <tr>\n",
       "      <th>2</th>\n",
       "      <td>462987</td>\n",
       "      <td>0</td>\n",
       "      <td>9/2/15</td>\n",
       "      <td>502</td>\n",
       "      <td>704.0</td>\n",
       "      <td>683.0</td>\n",
       "      <td>CHROME</td>\n",
       "      <td>LOUISVILLE</td>\n",
       "      <td>UNITED STATES</td>\n",
       "      <td>True</td>\n",
       "      <td>True</td>\n",
       "      <td>True</td>\n",
       "      <td>1</td>\n",
       "      <td>NaN</td>\n",
       "      <td>M</td>\n",
       "      <td>1</td>\n",
       "      <td>1</td>\n",
       "      <td>116</td>\n",
       "    </tr>\n",
       "    <tr>\n",
       "      <th>3</th>\n",
       "      <td>309372</td>\n",
       "      <td>0</td>\n",
       "      <td>10/1/15</td>\n",
       "      <td>518</td>\n",
       "      <td>113.0</td>\n",
       "      <td>477.0</td>\n",
       "      <td>FIREFOX</td>\n",
       "      <td>SCHENECTADY</td>\n",
       "      <td>UNITED STATES</td>\n",
       "      <td>True</td>\n",
       "      <td>True</td>\n",
       "      <td>True</td>\n",
       "      <td>1</td>\n",
       "      <td>NaN</td>\n",
       "      <td>L</td>\n",
       "      <td>1</td>\n",
       "      <td>1</td>\n",
       "      <td>1513</td>\n",
       "    </tr>\n",
       "    <tr>\n",
       "      <th>4</th>\n",
       "      <td>397009</td>\n",
       "      <td>1</td>\n",
       "      <td>7/12/15</td>\n",
       "      <td>713</td>\n",
       "      <td>NaN</td>\n",
       "      <td>587.0</td>\n",
       "      <td>FIREFOX</td>\n",
       "      <td>LOS ANGELES</td>\n",
       "      <td>UNITED STATES</td>\n",
       "      <td>True</td>\n",
       "      <td>NaN</td>\n",
       "      <td>True</td>\n",
       "      <td>1</td>\n",
       "      <td>NaN</td>\n",
       "      <td>N</td>\n",
       "      <td>1</td>\n",
       "      <td>1</td>\n",
       "      <td>0</td>\n",
       "    </tr>\n",
       "  </tbody>\n",
       "</table>\n",
       "</div>"
      ],
      "text/plain": [
       "        ID  BAD opendate  AreaCode  EAScore  IdentityRank DeviceBrowserType  \\\n",
       "0   134457    1   9/3/15       973      NaN         425.0           TRIDENT   \n",
       "1  6360592    0  9/28/15       310    930.0         652.0           TRIDENT   \n",
       "2   462987    0   9/2/15       502    704.0         683.0            CHROME   \n",
       "3   309372    0  10/1/15       518    113.0         477.0           FIREFOX   \n",
       "4   397009    1  7/12/15       713      NaN         587.0           FIREFOX   \n",
       "\n",
       "  IpAddressLocCity IpAddressLocCountry  IsValid IsConnected  Personal  \\\n",
       "0              NaN       UNITED STATES     True        True      True   \n",
       "1           AUSTIN       UNITED STATES     True        True      True   \n",
       "2       LOUISVILLE       UNITED STATES     True        True      True   \n",
       "3      SCHENECTADY       UNITED STATES     True        True      True   \n",
       "4      LOS ANGELES       UNITED STATES     True         NaN      True   \n",
       "\n",
       "   Reputation Level ReceivingMail Type  Volume Score  Result Number  EmailDays  \n",
       "0                 1          True    L             1              2         95  \n",
       "1                 1          True    F             1              1        116  \n",
       "2                 1           NaN    M             1              1        116  \n",
       "3                 1           NaN    L             1              1       1513  \n",
       "4                 1           NaN    N             1              1          0  "
      ]
     },
     "execution_count": 1050,
     "metadata": {},
     "output_type": "execute_result"
    }
   ],
   "source": [
    "file_one = \"SFA Craft Demo and Case Study - Huffman.csv\"\n",
    "SFA_df = pd.read_csv(file_one)\n",
    "SFA_df.head()"
   ]
  },
  {
   "cell_type": "code",
   "execution_count": 1051,
   "metadata": {},
   "outputs": [
    {
     "data": {
      "text/plain": [
       "1433"
      ]
     },
     "execution_count": 1051,
     "metadata": {},
     "output_type": "execute_result"
    }
   ],
   "source": [
    "total_records = SFA_df['BAD'].count()\n",
    "bad = SFA_df[SFA_df['BAD']==1].count()\n",
    "bad = bad['BAD']\n",
    "OK = SFA_df[SFA_df['BAD']==0].count()\n",
    "OK = OK['BAD']\n",
    "percents = ((OK/total_records)*100, (bad/total_records)*100)\n",
    "labels = ['OK', 'BAD']\n",
    "colors = ['lightgreen', 'red']\n",
    "OK"
   ]
  },
  {
   "cell_type": "code",
   "execution_count": 1052,
   "metadata": {},
   "outputs": [
    {
     "data": {
      "image/png": "[encoded data removed]",
      "text/plain": [
       "<matplotlib.figure.Figure at 0x11da45470>"
      ]
     },
     "metadata": {},
     "output_type": "display_data"
    }
   ],
   "source": [
    "labels = 'OK', 'BAD'\n",
    "colors = ['yellowgreen', 'lightcoral']\n",
    "explode = (0.1, 0)  # explode 1st slice\n",
    " \n",
    "# Plot\n",
    "plt.pie(percents, explode=explode, labels=labels, colors=colors,\n",
    "        autopct='%1.1f%%', shadow=True, startangle=140)\n",
    " \n",
    "plt.axis('equal')\n",
    "plt.show()"
   ]
  },
  {
   "cell_type": "code",
   "execution_count": 1053,
   "metadata": {},
   "outputs": [
    {
     "data": {
      "text/html": [
       "<div>\n",
       "<style>\n",
       "    .dataframe thead tr:only-child th {\n",
       "        text-align: right;\n",
       "    }\n",
       "\n",
       "    .dataframe thead th {\n",
       "        text-align: left;\n",
       "    }\n",
       "\n",
       "    .dataframe tbody tr th {\n",
       "        vertical-align: top;\n",
       "    }\n",
       "</style>\n",
       "<table border=\"1\" class=\"dataframe\">\n",
       "  <thead>\n",
       "    <tr style=\"text-align: right;\">\n",
       "      <th></th>\n",
       "      <th>ID</th>\n",
       "      <th>BAD</th>\n",
       "      <th>opendate</th>\n",
       "      <th>AreaCode</th>\n",
       "      <th>EAScore</th>\n",
       "      <th>IdentityRank</th>\n",
       "      <th>DeviceBrowserType</th>\n",
       "      <th>IpAddressLocCity</th>\n",
       "      <th>IpAddressLocCountry</th>\n",
       "      <th>IsValid</th>\n",
       "      <th>IsConnected</th>\n",
       "      <th>Personal</th>\n",
       "      <th>Reputation Level</th>\n",
       "      <th>ReceivingMail</th>\n",
       "      <th>Type</th>\n",
       "      <th>Volume Score</th>\n",
       "      <th>Result Number</th>\n",
       "      <th>EmailDays</th>\n",
       "    </tr>\n",
       "  </thead>\n",
       "  <tbody>\n",
       "    <tr>\n",
       "      <th>0</th>\n",
       "      <td>134457</td>\n",
       "      <td>1</td>\n",
       "      <td>9/3/15</td>\n",
       "      <td>973</td>\n",
       "      <td>NaN</td>\n",
       "      <td>425.0</td>\n",
       "      <td>TRIDENT</td>\n",
       "      <td>NaN</td>\n",
       "      <td>UNITED STATES</td>\n",
       "      <td>True</td>\n",
       "      <td>True</td>\n",
       "      <td>True</td>\n",
       "      <td>1</td>\n",
       "      <td>True</td>\n",
       "      <td>L</td>\n",
       "      <td>1</td>\n",
       "      <td>2</td>\n",
       "      <td>95</td>\n",
       "    </tr>\n",
       "    <tr>\n",
       "      <th>1</th>\n",
       "      <td>6360592</td>\n",
       "      <td>0</td>\n",
       "      <td>9/28/15</td>\n",
       "      <td>310</td>\n",
       "      <td>930.0</td>\n",
       "      <td>652.0</td>\n",
       "      <td>TRIDENT</td>\n",
       "      <td>AUSTIN</td>\n",
       "      <td>UNITED STATES</td>\n",
       "      <td>True</td>\n",
       "      <td>True</td>\n",
       "      <td>True</td>\n",
       "      <td>1</td>\n",
       "      <td>True</td>\n",
       "      <td>F</td>\n",
       "      <td>1</td>\n",
       "      <td>1</td>\n",
       "      <td>116</td>\n",
       "    </tr>\n",
       "    <tr>\n",
       "      <th>2</th>\n",
       "      <td>462987</td>\n",
       "      <td>0</td>\n",
       "      <td>9/2/15</td>\n",
       "      <td>502</td>\n",
       "      <td>704.0</td>\n",
       "      <td>683.0</td>\n",
       "      <td>CHROME</td>\n",
       "      <td>LOUISVILLE</td>\n",
       "      <td>UNITED STATES</td>\n",
       "      <td>True</td>\n",
       "      <td>True</td>\n",
       "      <td>True</td>\n",
       "      <td>1</td>\n",
       "      <td>NaN</td>\n",
       "      <td>M</td>\n",
       "      <td>1</td>\n",
       "      <td>1</td>\n",
       "      <td>116</td>\n",
       "    </tr>\n",
       "    <tr>\n",
       "      <th>3</th>\n",
       "      <td>309372</td>\n",
       "      <td>0</td>\n",
       "      <td>10/1/15</td>\n",
       "      <td>518</td>\n",
       "      <td>113.0</td>\n",
       "      <td>477.0</td>\n",
       "      <td>FIREFOX</td>\n",
       "      <td>SCHENECTADY</td>\n",
       "      <td>UNITED STATES</td>\n",
       "      <td>True</td>\n",
       "      <td>True</td>\n",
       "      <td>True</td>\n",
       "      <td>1</td>\n",
       "      <td>NaN</td>\n",
       "      <td>L</td>\n",
       "      <td>1</td>\n",
       "      <td>1</td>\n",
       "      <td>1513</td>\n",
       "    </tr>\n",
       "    <tr>\n",
       "      <th>4</th>\n",
       "      <td>397009</td>\n",
       "      <td>1</td>\n",
       "      <td>7/12/15</td>\n",
       "      <td>713</td>\n",
       "      <td>NaN</td>\n",
       "      <td>587.0</td>\n",
       "      <td>FIREFOX</td>\n",
       "      <td>LOS ANGELES</td>\n",
       "      <td>UNITED STATES</td>\n",
       "      <td>True</td>\n",
       "      <td>NaN</td>\n",
       "      <td>True</td>\n",
       "      <td>1</td>\n",
       "      <td>NaN</td>\n",
       "      <td>N</td>\n",
       "      <td>1</td>\n",
       "      <td>1</td>\n",
       "      <td>0</td>\n",
       "    </tr>\n",
       "  </tbody>\n",
       "</table>\n",
       "</div>"
      ],
      "text/plain": [
       "        ID  BAD opendate  AreaCode  EAScore  IdentityRank DeviceBrowserType  \\\n",
       "0   134457    1   9/3/15       973      NaN         425.0           TRIDENT   \n",
       "1  6360592    0  9/28/15       310    930.0         652.0           TRIDENT   \n",
       "2   462987    0   9/2/15       502    704.0         683.0            CHROME   \n",
       "3   309372    0  10/1/15       518    113.0         477.0           FIREFOX   \n",
       "4   397009    1  7/12/15       713      NaN         587.0           FIREFOX   \n",
       "\n",
       "  IpAddressLocCity IpAddressLocCountry  IsValid IsConnected  Personal  \\\n",
       "0              NaN       UNITED STATES     True        True      True   \n",
       "1           AUSTIN       UNITED STATES     True        True      True   \n",
       "2       LOUISVILLE       UNITED STATES     True        True      True   \n",
       "3      SCHENECTADY       UNITED STATES     True        True      True   \n",
       "4      LOS ANGELES       UNITED STATES     True         NaN      True   \n",
       "\n",
       "   Reputation Level ReceivingMail Type  Volume Score  Result Number  EmailDays  \n",
       "0                 1          True    L             1              2         95  \n",
       "1                 1          True    F             1              1        116  \n",
       "2                 1           NaN    M             1              1        116  \n",
       "3                 1           NaN    L             1              1       1513  \n",
       "4                 1           NaN    N             1              1          0  "
      ]
     },
     "execution_count": 1053,
     "metadata": {},
     "output_type": "execute_result"
    }
   ],
   "source": [
    "SFA_df.head()"
   ]
  },
  {
   "cell_type": "code",
   "execution_count": 1054,
   "metadata": {
    "collapsed": true
   },
   "outputs": [],
   "source": [
    "IsValid_True = SFA_df[SFA_df['IsValid']==True]\n",
    "Is_Valid_False = SFA_df[SFA_df['IsValid']==False]"
   ]
  },
  {
   "cell_type": "code",
   "execution_count": 1055,
   "metadata": {
    "collapsed": true
   },
   "outputs": [],
   "source": [
    "IV = SFA_df[['BAD','IsValid']]\n",
    "#IV = IV.groupby('BAD', as_index = False).count()\n",
    "\n",
    "IVT = IV[IV['IsValid'] == True]\n",
    "IVT = IVT.groupby('BAD', as_index = False)['IsValid'].count()\n",
    "\n",
    "IVF = IV[IV['IsValid'] == False]\n",
    "IVF = IVF.groupby('BAD', as_index = False)['IsValid'].count()\n",
    "  "
   ]
  },
  {
   "cell_type": "code",
   "execution_count": 1056,
   "metadata": {},
   "outputs": [
    {
     "data": {
      "text/plain": [
       "(1341, 1)"
      ]
     },
     "execution_count": 1056,
     "metadata": {},
     "output_type": "execute_result"
    }
   ],
   "source": [
    "IVT_BAD = (IVT.loc[IVT['BAD'] == 1, 'IsValid']).sum()\n",
    "IVF_BAD = (IVF.loc[IVF['BAD'] == 1, 'IsValid']).sum()\n",
    "\n",
    "IVT_OK = (IVT.loc[IVT['BAD'] == 0, 'IsValid']).sum()\n",
    "IVF_OK = (IVF.loc[IVF['BAD'] == 0, 'IsValid']).sum()\n",
    "\n",
    "# IVT = IVT_BAD[0] + IVT_OK[0]\n",
    "# IVT_BAD = IVT_BAD[0]/IVT\n",
    "# IVT_OK = IVT_OK[0]/IVT\n",
    "\n",
    "# IVF = IVF_BAD[0]\n",
    "# IVF_BAD = IVF_BAD[0]/IVF\n",
    "# IVF_OK = 0\n",
    "\n",
    "BAD = (IVT_BAD, IVF_BAD)\n",
    "OK = (IVT_OK, 0)\n",
    "BAD\n",
    "\n"
   ]
  },
  {
   "cell_type": "code",
   "execution_count": 1057,
   "metadata": {},
   "outputs": [
    {
     "data": {
      "image/png": "[encoded data removed]",
      "text/plain": [
       "<matplotlib.figure.Figure at 0x1182e64a8>"
      ]
     },
     "metadata": {},
     "output_type": "display_data"
    }
   ],
   "source": [
    "N = 2\n",
    "ind = np.arange(N)\n",
    "width = 0.15\n",
    "\n",
    "# IV_BAD = (1341, 1)\n",
    "# IV_OK = (1433, 0)\n",
    "\n",
    "p1 = plt.bar(ind, BAD, width, color='#d62728', label = 'Fradulent')\n",
    "p2 = plt.bar(ind, OK, width, label = 'Legitimate', bottom = BAD)\n",
    "\n",
    "plt.ylabel('BAD')\n",
    "plt.xlabel('IsValid')\n",
    "plt.xticks(ind, ('True', 'False'))\n",
    "plt.legend(loc=\"upper right\")\n",
    "plt.show()\n",
    "\n"
   ]
  },
  {
   "cell_type": "code",
   "execution_count": 1058,
   "metadata": {},
   "outputs": [
    {
     "name": "stderr",
     "output_type": "stream",
     "text": [
      "/anaconda/lib/python3.6/site-packages/pandas/core/generic.py:3549: SettingWithCopyWarning: \n",
      "A value is trying to be set on a copy of a slice from a DataFrame\n",
      "\n",
      "See the caveats in the documentation: http://pandas.pydata.org/pandas-docs/stable/indexing.html#indexing-view-versus-copy\n",
      "  self._update_inplace(new_data)\n"
     ]
    }
   ],
   "source": [
    "IC = SFA_df[['BAD','IsConnected']]\n",
    "#IV = IV.groupby('BAD', as_index = False).count()\n",
    "\n",
    "ICT = IC[IC['IsConnected']==True]\n",
    "ICF = IC[IC['IsConnected']==False]\n",
    "IC['IsConnected'].fillna(0, inplace = True)\n",
    "ICNaN = IC[IC['IsConnected']==0]\n",
    "\n",
    "\n",
    "#IsConnected_True"
   ]
  },
  {
   "cell_type": "code",
   "execution_count": null,
   "metadata": {
    "collapsed": true
   },
   "outputs": [],
   "source": []
  },
  {
   "cell_type": "code",
   "execution_count": 1059,
   "metadata": {},
   "outputs": [
    {
     "data": {
      "text/plain": [
       "(941, 1, 401)"
      ]
     },
     "execution_count": 1059,
     "metadata": {},
     "output_type": "execute_result"
    }
   ],
   "source": [
    "ICT_BAD = (ICT.loc[ICT['BAD'] == 1, 'IsConnected']).count()\n",
    "ICF_BAD = (ICF.loc[ICF['BAD'] == 1, 'IsConnected']).count()\n",
    "ICNaN_BAD = (ICNaN.loc[ICNaN['BAD'] == 1, 'IsConnected']).count()\n",
    "\n",
    "ICT_OK = (ICT.loc[ICT['BAD'] == 0, 'IsConnected']).count()\n",
    "ICF_OK = (ICF.loc[ICF['BAD'] == 0, 'IsConnected']).count()\n",
    "ICNaN_OK = (ICNaN.loc[ICNaN['BAD'] == 0, 'IsConnected']).count()\n",
    "\n",
    "BAD = (ICT_BAD, ICF_BAD, ICNaN_BAD)\n",
    "OK = (ICT_OK, ICF_OK, ICNaN_OK)\n",
    "BAD"
   ]
  },
  {
   "cell_type": "code",
   "execution_count": 1060,
   "metadata": {},
   "outputs": [
    {
     "data": {
      "image/png": "[encoded data removed]",
      "text/plain": [
       "<matplotlib.figure.Figure at 0x11d512b00>"
      ]
     },
     "metadata": {},
     "output_type": "display_data"
    }
   ],
   "source": [
    "N = 3\n",
    "ind = np.arange(N)\n",
    "width = 0.5\n",
    "\n",
    "# IV_BAD = (1341, 1)\n",
    "# IV_OK = (1433, 0)\n",
    "\n",
    "p1 = plt.bar(ind, BAD, width, color='#d62728', label = 'Fradulent')\n",
    "p2 = plt.bar(ind, OK, width, label = 'Legitimate', bottom = BAD)\n",
    "\n",
    "plt.ylabel('BAD')\n",
    "plt.xlabel('IsConnected')\n",
    "plt.xticks(ind, ('True', 'False', 'NaN'))\n",
    "plt.legend(loc=\"upper right\")\n",
    "plt.show()"
   ]
  },
  {
   "cell_type": "code",
   "execution_count": 1061,
   "metadata": {},
   "outputs": [
    {
     "name": "stderr",
     "output_type": "stream",
     "text": [
      "/anaconda/lib/python3.6/site-packages/pandas/core/generic.py:3549: SettingWithCopyWarning: \n",
      "A value is trying to be set on a copy of a slice from a DataFrame\n",
      "\n",
      "See the caveats in the documentation: http://pandas.pydata.org/pandas-docs/stable/indexing.html#indexing-view-versus-copy\n",
      "  self._update_inplace(new_data)\n"
     ]
    }
   ],
   "source": [
    "IP = SFA_df[['BAD','Personal']]\n",
    "#IV = IV.groupby('BAD', as_index = False).count()\n",
    "\n",
    "IPT = IP[IP['Personal']==True]\n",
    "IPF = IP[IP['Personal']==False]\n",
    "IP['Personal'].fillna(0, inplace = True)\n",
    "IPNaN = IP[IP['Personal']==0]"
   ]
  },
  {
   "cell_type": "code",
   "execution_count": 1062,
   "metadata": {
    "collapsed": true
   },
   "outputs": [],
   "source": [
    "IPT_BAD = (IPT.loc[IPT['BAD'] == 1, 'Personal']).count()\n",
    "IPF_BAD = (IPF.loc[IPF['BAD'] == 1, 'Personal']).count()\n",
    "IPNaN_BAD = (IPNaN.loc[IPNaN['BAD'] == 1, 'Personal']).count()\n",
    "\n",
    "IPT_OK = (IPT.loc[IPT['BAD'] == 0, 'Personal']).count()\n",
    "IPF_OK = (IPF.loc[IPF['BAD'] == 0, 'Personal']).count()\n",
    "IPNaN_OK = (IPNaN.loc[IPNaN['BAD'] == 0, 'Personal']).count()\n",
    "\n",
    "# IPT_Total = ICT_BAD + ICT_OK\n",
    "# IPF_Total = ICF_BAD + ICF_OK\n",
    "# IPN_Total = ICNaN_BAD + ICNaN_OK\n",
    "\n",
    "IPT_BAD = IPT_BAD\n",
    "IPF_BAD = IPF_BAD\n",
    "IPNaN_BAD = IPNaN_BAD\n",
    "\n",
    "IPT_OK = IPT_OK\n",
    "IPF_OK = IPF_OK\n",
    "IPNaN_OK = IPNaN_OK\n",
    "\n",
    "BAD = (IPT_BAD, IPF_BAD, IPNaN_BAD)\n",
    "OK = (IPT_OK, IPF_OK, IPNaN_OK)"
   ]
  },
  {
   "cell_type": "code",
   "execution_count": 1063,
   "metadata": {},
   "outputs": [
    {
     "data": {
      "image/png": "[encoded data removed]",
      "text/plain": [
       "<matplotlib.figure.Figure at 0x11cf227b8>"
      ]
     },
     "metadata": {},
     "output_type": "display_data"
    }
   ],
   "source": [
    "N = 3\n",
    "ind = np.arange(N)\n",
    "width = 0.5\n",
    "\n",
    "# IV_BAD = (1341, 1)\n",
    "# IV_OK = (1433, 0)\n",
    "\n",
    "p1 = plt.bar(ind, BAD, width, color='#d62728', label = 'Fradulent')\n",
    "p2 = plt.bar(ind, OK, width, label = 'Legitimate', bottom = BAD)\n",
    "\n",
    "plt.ylabel('BAD')\n",
    "plt.xlabel('Personal')\n",
    "plt.xticks(ind, ('True', 'False', 'NaN'))\n",
    "plt.legend(loc=\"upper right\")\n",
    "plt.show()"
   ]
  },
  {
   "cell_type": "code",
   "execution_count": 1064,
   "metadata": {
    "collapsed": true
   },
   "outputs": [],
   "source": [
    "IR = SFA_df[['BAD','Reputation Level']]\n",
    "#IV = IV.groupby('BAD', as_index = False).count()\n",
    "\n",
    "IR1 = IR[IR['Reputation Level']==1]\n",
    "IR2 = IR[IR['Reputation Level']==2]\n",
    "IR3 = IR[IR['Reputation Level']==3]"
   ]
  },
  {
   "cell_type": "code",
   "execution_count": 1065,
   "metadata": {
    "collapsed": true
   },
   "outputs": [],
   "source": [
    "IR1_BAD = (IR1.loc[IR1['BAD'] == 1, 'Reputation Level']).count()\n",
    "IR2_BAD = (IR2.loc[IR2['BAD'] == 1, 'Reputation Level']).count()\n",
    "IR3_BAD = (IR3.loc[IR3['BAD'] == 1, 'Reputation Level']).count()\n",
    "\n",
    "IR1_OK = (IR1.loc[IR1['BAD'] == 0, 'Reputation Level']).count()\n",
    "IR2_OK = (IR2.loc[IR2['BAD'] == 0, 'Reputation Level']).count()\n",
    "IR3_OK = (IR3.loc[IR3['BAD'] == 0, 'Reputation Level']).count()\n",
    "\n",
    "# IPT_Total = ICT_BAD + ICT_OK\n",
    "# IPF_Total = ICF_BAD + ICF_OK\n",
    "# IPN_Total = ICNaN_BAD + ICNaN_OK\n",
    "\n",
    "# IPT_BAD = IPT_BAD\n",
    "# IPF_BAD = IPF_BAD\n",
    "# IPNaN_BAD = IPNaN_BAD\n",
    "\n",
    "# IPT_OK = IPT_OK\n",
    "# IPF_OK = IPF_OK\n",
    "# IPNaN_OK = IPNaN_OK\n",
    "\n",
    "BAD = (IR1_BAD, IR2_BAD, IR3_BAD)\n",
    "OK = (IR1_OK, IR2_OK, IR3_OK)"
   ]
  },
  {
   "cell_type": "code",
   "execution_count": 1066,
   "metadata": {},
   "outputs": [
    {
     "data": {
      "image/png": "[encoded data removed]",
      "text/plain": [
       "<matplotlib.figure.Figure at 0x11d020d30>"
      ]
     },
     "metadata": {},
     "output_type": "display_data"
    }
   ],
   "source": [
    "N = 3\n",
    "ind = np.arange(N)\n",
    "width = 0.5\n",
    "\n",
    "# IV_BAD = (1341, 1)\n",
    "# IV_OK = (1433, 0)\n",
    "\n",
    "p1 = plt.bar(ind, BAD, width, color='#d62728', label = 'Fradulent')\n",
    "p2 = plt.bar(ind, OK, width, label = 'Legitimate', bottom = BAD)\n",
    "\n",
    "plt.ylabel('BAD')\n",
    "plt.xlabel('Reputation Level')\n",
    "plt.xticks(ind, ('True', 'False', 'NaN'))\n",
    "plt.legend(loc=\"upper right\")\n",
    "plt.show()"
   ]
  },
  {
   "cell_type": "code",
   "execution_count": 1067,
   "metadata": {
    "collapsed": true
   },
   "outputs": [],
   "source": [
    "IT = SFA_df[['BAD','Type']]\n",
    "#IV = IV.groupby('BAD', as_index = False).count()\n",
    "\n",
    "IT0 = IT[IT['Type']=='0']\n",
    "ITF = IT[IT['Type']=='F']\n",
    "ITL = IT[IT['Type']=='L']\n",
    "ITM = IT[IT['Type']=='M']\n",
    "ITN = IT[IT['Type']=='N']\n",
    "ITT = IT[IT['Type']=='T']"
   ]
  },
  {
   "cell_type": "code",
   "execution_count": 1068,
   "metadata": {
    "collapsed": true
   },
   "outputs": [],
   "source": [
    "IT0_BAD = (IT0.loc[IT0['BAD'] == 1, 'Type']).count()\n",
    "ITF_BAD = (ITF.loc[ITF['BAD'] == 1, 'Type']).count()\n",
    "ITL_BAD = (ITL.loc[ITL['BAD'] == 1, 'Type']).count()\n",
    "ITM_BAD = (ITM.loc[ITM['BAD'] == 1, 'Type']).count()\n",
    "ITN_BAD = (ITN.loc[ITN['BAD'] == 1, 'Type']).count()\n",
    "ITT_BAD = (ITT.loc[ITT['BAD'] == 1, 'Type']).count()\n",
    "\n",
    "IT0_OK = (IT0.loc[IT0['BAD'] == 0, 'Type']).count()\n",
    "ITF_OK = (ITF.loc[ITF['BAD'] == 0, 'Type']).count()\n",
    "ITL_OK = (ITL.loc[ITL['BAD'] == 0, 'Type']).count()\n",
    "ITM_OK = (ITM.loc[ITM['BAD'] == 0, 'Type']).count()\n",
    "ITN_OK = (ITN.loc[ITN['BAD'] == 0, 'Type']).count()\n",
    "ITT_OK = (ITT.loc[ITT['BAD'] == 0, 'Type']).count()\n",
    "# IPF_Total = ICF_BAD + ICF_OK\n",
    "# IPN_Total = ICNaN_BAD + ICNaN_OK\n",
    "\n",
    "# IPT_BAD = IPT_BAD\n",
    "# IPF_BAD = IPF_BAD\n",
    "# IPNaN_BAD = IPNaN_BAD\n",
    "\n",
    "# IPT_OK = IPT_OK\n",
    "# IPF_OK = IPF_OK\n",
    "# IPNaN_OK = IPNaN_OK\n",
    "\n",
    "BAD = (IT0_BAD, ITF_BAD, ITL_BAD, ITM_BAD, ITN_BAD, ITT_BAD)\n",
    "OK = (IT0_OK, ITF_OK, ITL_OK, ITM_OK, ITN_OK, ITT_OK)"
   ]
  },
  {
   "cell_type": "code",
   "execution_count": 1069,
   "metadata": {},
   "outputs": [
    {
     "data": {
      "image/png": "[encoded data removed]",
      "text/plain": [
       "<matplotlib.figure.Figure at 0x1187c19b0>"
      ]
     },
     "metadata": {},
     "output_type": "display_data"
    }
   ],
   "source": [
    "N = 6\n",
    "ind = np.arange(N)\n",
    "width = 0.5\n",
    "\n",
    "# IV_BAD = (1341, 1)\n",
    "# IV_OK = (1433, 0)\n",
    "\n",
    "p1 = plt.bar(ind, BAD, width, color='#d62728', label = 'Fradulent')\n",
    "p2 = plt.bar(ind, OK, width, label = 'Legitimate', bottom = BAD)\n",
    "\n",
    "plt.ylabel('BAD')\n",
    "plt.xlabel('Type')\n",
    "plt.xticks(ind, ('0','F', 'L', 'M', 'N', 'T'))\n",
    "plt.legend(loc=\"upper right\")\n",
    "plt.show()"
   ]
  },
  {
   "cell_type": "code",
   "execution_count": 1070,
   "metadata": {
    "collapsed": true
   },
   "outputs": [],
   "source": [
    "IVS = SFA_df[['BAD','Volume Score']]\n",
    "#IV = IV.groupby('BAD', as_index = False).count()\n",
    "\n",
    "IVS1 = IVS[IVS['Volume Score']== 1]\n",
    "IVS2 = IVS[IVS['Volume Score']== 2]\n",
    "IVS3 = IVS[IVS['Volume Score']== 3]\n"
   ]
  },
  {
   "cell_type": "code",
   "execution_count": 1071,
   "metadata": {},
   "outputs": [
    {
     "data": {
      "text/plain": [
       "(1232, 200, 1)"
      ]
     },
     "execution_count": 1071,
     "metadata": {},
     "output_type": "execute_result"
    }
   ],
   "source": [
    "IVS1_BAD = (IVS1.loc[IVS1['BAD'] == 1, 'Volume Score']).count()\n",
    "IVS2_BAD = (IVS2.loc[IVS2['BAD'] == 1, 'Volume Score']).count()\n",
    "IVS3_BAD = (IVS3.loc[IVS3['BAD'] == 1, 'Volume Score']).count()\n",
    "\n",
    "IVS1_OK = (IVS1.loc[IVS1['BAD'] == 0, 'Volume Score']).count()\n",
    "IVS2_OK = (IVS2.loc[IVS2['BAD'] == 0, 'Volume Score']).count()\n",
    "IVS3_OK = (IVS3.loc[IVS3['BAD'] == 0, 'Volume Score']).count()\n",
    "\n",
    "BAD = (IVS1_BAD, IVS2_BAD, IVS3_BAD)\n",
    "OK = (IVS1_OK, IVS2_OK, IVS3_OK)\n",
    "OK"
   ]
  },
  {
   "cell_type": "code",
   "execution_count": 1072,
   "metadata": {},
   "outputs": [
    {
     "data": {
      "image/png": "[encoded data removed]",
      "text/plain": [
       "<matplotlib.figure.Figure at 0x11ca15f28>"
      ]
     },
     "metadata": {},
     "output_type": "display_data"
    }
   ],
   "source": [
    "N = 3\n",
    "ind = np.arange(N)\n",
    "width = 0.5\n",
    "\n",
    "# IV_BAD = (1341, 1)\n",
    "# IV_OK = (1433, 0)\n",
    "\n",
    "p1 = plt.bar(ind, BAD, width, color='#d62728', label = 'Fradulent')\n",
    "p2 = plt.bar(ind, OK, width, label = 'Legitimate', bottom = BAD)\n",
    "\n",
    "plt.ylabel('BAD')\n",
    "plt.xlabel('Volume Score')\n",
    "plt.xticks(ind, ('1', '2', '3'))\n",
    "plt.legend(loc=\"upper right\")\n",
    "plt.show()"
   ]
  },
  {
   "cell_type": "code",
   "execution_count": null,
   "metadata": {
    "collapsed": true
   },
   "outputs": [],
   "source": []
  },
  {
   "cell_type": "code",
   "execution_count": null,
   "metadata": {
    "collapsed": true
   },
   "outputs": [],
   "source": []
  },
  {
   "cell_type": "code",
   "execution_count": 1073,
   "metadata": {},
   "outputs": [
    {
     "data": {
      "text/html": [
       "<div>\n",
       "<style>\n",
       "    .dataframe thead tr:only-child th {\n",
       "        text-align: right;\n",
       "    }\n",
       "\n",
       "    .dataframe thead th {\n",
       "        text-align: left;\n",
       "    }\n",
       "\n",
       "    .dataframe tbody tr th {\n",
       "        vertical-align: top;\n",
       "    }\n",
       "</style>\n",
       "<table border=\"1\" class=\"dataframe\">\n",
       "  <thead>\n",
       "    <tr style=\"text-align: right;\">\n",
       "      <th></th>\n",
       "      <th>BAD</th>\n",
       "      <th>Result Number</th>\n",
       "    </tr>\n",
       "  </thead>\n",
       "  <tbody>\n",
       "    <tr>\n",
       "      <th>1</th>\n",
       "      <td>0</td>\n",
       "      <td>1</td>\n",
       "    </tr>\n",
       "    <tr>\n",
       "      <th>2</th>\n",
       "      <td>0</td>\n",
       "      <td>1</td>\n",
       "    </tr>\n",
       "    <tr>\n",
       "      <th>3</th>\n",
       "      <td>0</td>\n",
       "      <td>1</td>\n",
       "    </tr>\n",
       "    <tr>\n",
       "      <th>4</th>\n",
       "      <td>1</td>\n",
       "      <td>1</td>\n",
       "    </tr>\n",
       "    <tr>\n",
       "      <th>5</th>\n",
       "      <td>1</td>\n",
       "      <td>1</td>\n",
       "    </tr>\n",
       "  </tbody>\n",
       "</table>\n",
       "</div>"
      ],
      "text/plain": [
       "   BAD  Result Number\n",
       "1    0              1\n",
       "2    0              1\n",
       "3    0              1\n",
       "4    1              1\n",
       "5    1              1"
      ]
     },
     "execution_count": 1073,
     "metadata": {},
     "output_type": "execute_result"
    }
   ],
   "source": [
    "RN = SFA_df[['BAD','Result Number']]\n",
    "#IV = IV.groupby('BAD', as_index = False).count()\n",
    "\n",
    "RN1 = RN[RN['Result Number']== 1]\n",
    "RN2 = RN[RN['Result Number']== 2]\n",
    "RN3 = RN[RN['Result Number']== 3]\n",
    "RN4 = RN[RN['Result Number']== 4]\n",
    "RN5 = RN[RN['Result Number']== 5]\n",
    "RN6 = RN[RN['Result Number']== 6]\n",
    "RN7 = RN[RN['Result Number']== 7]\n",
    "RN8 = RN[RN['Result Number']== 8]\n",
    "RN9 = RN[RN['Result Number']== 9]\n",
    "RN10 = RN[RN['Result Number']== 10]\n",
    "RN_10 = RN[RN['Result Number'] > 10]\n",
    "RN1.head()\n",
    "\n"
   ]
  },
  {
   "cell_type": "code",
   "execution_count": 1074,
   "metadata": {
    "collapsed": true
   },
   "outputs": [],
   "source": [
    "RN1_BAD = (RN1.loc[RN1['BAD'] == 1, 'Result Number']).count()\n",
    "RN2_BAD = (RN2.loc[RN2['BAD'] == 1, 'Result Number']).count()\n",
    "RN3_BAD = (RN3.loc[RN3['BAD'] == 1, 'Result Number']).count()\n",
    "RN4_BAD = (RN4.loc[RN4['BAD'] == 1, 'Result Number']).count()\n",
    "RN5_BAD = (RN5.loc[RN5['BAD'] == 1, 'Result Number']).count()\n",
    "RN6_BAD = (RN6.loc[RN6['BAD'] == 1, 'Result Number']).count()\n",
    "RN7_BAD = (RN7.loc[RN7['BAD'] == 1, 'Result Number']).count()\n",
    "RN8_BAD = (RN8.loc[RN8['BAD'] == 1, 'Result Number']).count()\n",
    "RN9_BAD = (RN9.loc[RN9['BAD'] == 1, 'Result Number']).count()\n",
    "RN10_BAD = (RN10.loc[RN10['BAD'] == 1, 'Result Number']).count()\n",
    "RN_10_BAD = (RN_10.loc[RN_10['BAD'] == 1, 'Result Number']).count()\n",
    "\n",
    "RN1_OK = (RN1.loc[RN1['BAD'] == 0, 'Result Number']).count()\n",
    "RN2_OK = (RN2.loc[RN2['BAD'] == 0, 'Result Number']).count()\n",
    "RN3_OK = (RN3.loc[RN3['BAD'] == 0, 'Result Number']).count()\n",
    "RN4_OK = (RN4.loc[RN4['BAD'] == 0, 'Result Number']).count()\n",
    "RN5_OK = (RN5.loc[RN5['BAD'] == 0, 'Result Number']).count()\n",
    "RN6_OK = (RN6.loc[RN6['BAD'] == 0, 'Result Number']).count()\n",
    "RN7_OK = (RN7.loc[RN7['BAD'] == 0, 'Result Number']).count()\n",
    "RN8_OK = (RN8.loc[RN8['BAD'] == 0, 'Result Number']).count()\n",
    "RN9_OK = (RN9.loc[RN9['BAD'] == 0, 'Result Number']).count()\n",
    "RN10_OK = (RN10.loc[RN10['BAD'] == 0, 'Result Number']).count()\n",
    "RN_10_OK = (RN_10.loc[RN_10['BAD'] == 0, 'Result Number']).count()\n",
    "\n",
    "BAD = (RN1_BAD, RN2_BAD, RN3_BAD, RN4_BAD, RN5_BAD, RN6_BAD, RN7_BAD, RN8_BAD, RN9_BAD, RN10_BAD, RN_10_BAD)\n",
    "OK = (RN1_OK, RN2_OK, RN3_OK, RN4_OK, RN5_OK, RN6_OK, RN7_OK, RN8_OK, RN9_OK, RN10_OK, RN_10_OK)\n"
   ]
  },
  {
   "cell_type": "code",
   "execution_count": 1075,
   "metadata": {},
   "outputs": [
    {
     "data": {
      "image/png": "[encoded data removed]",
      "text/plain": [
       "<matplotlib.figure.Figure at 0x11c3c8fd0>"
      ]
     },
     "metadata": {},
     "output_type": "display_data"
    }
   ],
   "source": [
    "N = 11\n",
    "ind = np.arange(N)\n",
    "width = 0.5\n",
    "\n",
    "# IV_BAD = (1341, 1)\n",
    "# IV_OK = (1433, 0)\n",
    "\n",
    "p1 = plt.bar(ind, BAD, width, color='#d62728', label = 'Fradulent')\n",
    "p2 = plt.bar(ind, OK, width, label = 'Legitimate', bottom = BAD)\n",
    "\n",
    "plt.ylabel('BAD')\n",
    "plt.xlabel('Result Number')\n",
    "plt.xticks(ind, ('1', '2', '3', '4', '5', '6', '7', '8', '9', '10', '>10'))\n",
    "plt.legend(loc=\"upper right\")\n",
    "plt.show()"
   ]
  },
  {
   "cell_type": "code",
   "execution_count": null,
   "metadata": {
    "collapsed": true
   },
   "outputs": [],
   "source": []
  }
 ],
 "metadata": {
  "kernelspec": {
   "display_name": "Python 3",
   "language": "python",
   "name": "python3"
  },
  "language_info": {
   "codemirror_mode": {
    "name": "ipython",
    "version": 3
   },
   "file_extension": ".py",
   "mimetype": "text/x-python",
   "name": "python",
   "nbconvert_exporter": "python",
   "pygments_lexer": "ipython3",
   "version": "3.6.2"
  }
 },
 "nbformat": 4,
 "nbformat_minor": 2
}
